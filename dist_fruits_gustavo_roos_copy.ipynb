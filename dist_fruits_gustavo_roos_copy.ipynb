{
  "nbformat": 4,
  "nbformat_minor": 0,
  "metadata": {
    "colab": {
      "name": "dist_fruits_gustavo_roos_copy.ipynb",
      "provenance": [],
      "collapsed_sections": [],
      "toc_visible": true,
      "include_colab_link": true
    },
    "kernelspec": {
      "name": "python3",
      "display_name": "Python 3"
    }
  },
  "cells": [
    {
      "cell_type": "markdown",
      "metadata": {
        "id": "view-in-github",
        "colab_type": "text"
      },
      "source": [
        "<a href=\"https://colab.research.google.com/github/gustavohroos/TEC-IX-ML/blob/main/dist_fruits_gustavo_roos_copy.ipynb\" target=\"_parent\"><img src=\"https://colab.research.google.com/assets/colab-badge.svg\" alt=\"Open In Colab\"/></a>"
      ]
    },
    {
      "cell_type": "markdown",
      "metadata": {
        "id": "OxxcDmyIZecG"
      },
      "source": [
        "# Distinguindo frutas\n",
        "\n"
      ]
    },
    {
      "cell_type": "markdown",
      "metadata": {
        "id": "ETRqvHfQIo89"
      },
      "source": [
        "Importei os dados"
      ]
    },
    {
      "cell_type": "code",
      "metadata": {
        "id": "TnfzO9eVcKkK",
        "colab": {
          "base_uri": "https://localhost:8080/"
        },
        "outputId": "e68bc532-fd08-4fca-81d2-87643e262992"
      },
      "source": [
        "# Baixar os dados\n",
        "!wget https://www.dropbox.com/s/vxc9vt2vii4ufoj/dist_fruits_gustavo.csv\n",
        "\n",
        "# Vamos usar a biblioteca pandas para carregar e pré-processar os dados\n",
        "import pandas as pd\n",
        "\n",
        "dados_completos = pd.read_csv(\"dist_fruits_gustavo.csv\", index_col=0)"
      ],
      "execution_count": null,
      "outputs": [
        {
          "output_type": "stream",
          "name": "stdout",
          "text": [
            "--2021-08-31 01:30:59--  https://www.dropbox.com/s/vxc9vt2vii4ufoj/dist_fruits_gustavo.csv\n",
            "Resolving www.dropbox.com (www.dropbox.com)... 162.125.3.18, 2620:100:6018:18::a27d:312\n",
            "Connecting to www.dropbox.com (www.dropbox.com)|162.125.3.18|:443... connected.\n",
            "HTTP request sent, awaiting response... 301 Moved Permanently\n",
            "Location: /s/raw/vxc9vt2vii4ufoj/dist_fruits_gustavo.csv [following]\n",
            "--2021-08-31 01:30:59--  https://www.dropbox.com/s/raw/vxc9vt2vii4ufoj/dist_fruits_gustavo.csv\n",
            "Reusing existing connection to www.dropbox.com:443.\n",
            "HTTP request sent, awaiting response... 302 Found\n",
            "Location: https://uc3eacda83a3d07bdf91843f0af3.dl.dropboxusercontent.com/cd/0/inline/BVMl7nus0YVAG33XBLDKLO2euw-N3cOy58X3EjuHGzDE0c90Mi_5E6KdfHnMasPkR3LAGoMzWuvyrwYT3igEUQMJIuu1-pDgkG18w1832yd-dgtYETuOvCf7mcPuuM0iR4Uc55fWCmxlCIYUIxUnV2YS/file# [following]\n",
            "--2021-08-31 01:30:59--  https://uc3eacda83a3d07bdf91843f0af3.dl.dropboxusercontent.com/cd/0/inline/BVMl7nus0YVAG33XBLDKLO2euw-N3cOy58X3EjuHGzDE0c90Mi_5E6KdfHnMasPkR3LAGoMzWuvyrwYT3igEUQMJIuu1-pDgkG18w1832yd-dgtYETuOvCf7mcPuuM0iR4Uc55fWCmxlCIYUIxUnV2YS/file\n",
            "Resolving uc3eacda83a3d07bdf91843f0af3.dl.dropboxusercontent.com (uc3eacda83a3d07bdf91843f0af3.dl.dropboxusercontent.com)... 162.125.80.15, 2620:100:6018:15::a27d:30f\n",
            "Connecting to uc3eacda83a3d07bdf91843f0af3.dl.dropboxusercontent.com (uc3eacda83a3d07bdf91843f0af3.dl.dropboxusercontent.com)|162.125.80.15|:443... connected.\n",
            "HTTP request sent, awaiting response... 200 OK\n",
            "Length: 1337 (1.3K) [text/plain]\n",
            "Saving to: ‘dist_fruits_gustavo.csv’\n",
            "\n",
            "dist_fruits_gustavo 100%[===================>]   1.31K  --.-KB/s    in 0s      \n",
            "\n",
            "2021-08-31 01:31:00 (155 MB/s) - ‘dist_fruits_gustavo.csv’ saved [1337/1337]\n",
            "\n"
          ]
        }
      ]
    },
    {
      "cell_type": "markdown",
      "metadata": {
        "id": "KJKAnGDLIvN7"
      },
      "source": [
        "Filtrar os atributos\n"
      ]
    },
    {
      "cell_type": "code",
      "metadata": {
        "id": "_PO2mYe5qprl",
        "colab": {
          "base_uri": "https://localhost:8080/",
          "height": 1000
        },
        "outputId": "d5c51049-8890-4130-967d-5d57d1479f0b"
      },
      "source": [
        "dados = dados_completos\n",
        "\n",
        "# Filtrar atributos que usaremos (sinta-se livre para experimentar com outros)\n",
        "dados = dados[['mass',\t'width',\t'height',\t'color_score',\t'fruit_name']].reset_index(drop=True)\n",
        "\n",
        "dados"
      ],
      "execution_count": null,
      "outputs": [
        {
          "output_type": "execute_result",
          "data": {
            "text/html": [
              "<div>\n",
              "<style scoped>\n",
              "    .dataframe tbody tr th:only-of-type {\n",
              "        vertical-align: middle;\n",
              "    }\n",
              "\n",
              "    .dataframe tbody tr th {\n",
              "        vertical-align: top;\n",
              "    }\n",
              "\n",
              "    .dataframe thead th {\n",
              "        text-align: right;\n",
              "    }\n",
              "</style>\n",
              "<table border=\"1\" class=\"dataframe\">\n",
              "  <thead>\n",
              "    <tr style=\"text-align: right;\">\n",
              "      <th></th>\n",
              "      <th>mass</th>\n",
              "      <th>width</th>\n",
              "      <th>height</th>\n",
              "      <th>color_score</th>\n",
              "      <th>fruit_name</th>\n",
              "    </tr>\n",
              "  </thead>\n",
              "  <tbody>\n",
              "    <tr>\n",
              "      <th>0</th>\n",
              "      <td>86</td>\n",
              "      <td>6.2</td>\n",
              "      <td>4.7</td>\n",
              "      <td>0.80</td>\n",
              "      <td>mandarin</td>\n",
              "    </tr>\n",
              "    <tr>\n",
              "      <th>1</th>\n",
              "      <td>84</td>\n",
              "      <td>6.0</td>\n",
              "      <td>4.6</td>\n",
              "      <td>0.79</td>\n",
              "      <td>mandarin</td>\n",
              "    </tr>\n",
              "    <tr>\n",
              "      <th>2</th>\n",
              "      <td>80</td>\n",
              "      <td>5.8</td>\n",
              "      <td>4.3</td>\n",
              "      <td>0.77</td>\n",
              "      <td>mandarin</td>\n",
              "    </tr>\n",
              "    <tr>\n",
              "      <th>3</th>\n",
              "      <td>80</td>\n",
              "      <td>5.9</td>\n",
              "      <td>4.3</td>\n",
              "      <td>0.81</td>\n",
              "      <td>mandarin</td>\n",
              "    </tr>\n",
              "    <tr>\n",
              "      <th>4</th>\n",
              "      <td>192</td>\n",
              "      <td>8.4</td>\n",
              "      <td>7.3</td>\n",
              "      <td>0.55</td>\n",
              "      <td>apple</td>\n",
              "    </tr>\n",
              "    <tr>\n",
              "      <th>5</th>\n",
              "      <td>180</td>\n",
              "      <td>8.0</td>\n",
              "      <td>6.8</td>\n",
              "      <td>0.59</td>\n",
              "      <td>apple</td>\n",
              "    </tr>\n",
              "    <tr>\n",
              "      <th>6</th>\n",
              "      <td>178</td>\n",
              "      <td>7.1</td>\n",
              "      <td>7.8</td>\n",
              "      <td>0.92</td>\n",
              "      <td>apple</td>\n",
              "    </tr>\n",
              "    <tr>\n",
              "      <th>7</th>\n",
              "      <td>172</td>\n",
              "      <td>7.4</td>\n",
              "      <td>7.0</td>\n",
              "      <td>0.89</td>\n",
              "      <td>apple</td>\n",
              "    </tr>\n",
              "    <tr>\n",
              "      <th>8</th>\n",
              "      <td>172</td>\n",
              "      <td>7.1</td>\n",
              "      <td>7.6</td>\n",
              "      <td>0.92</td>\n",
              "      <td>apple</td>\n",
              "    </tr>\n",
              "    <tr>\n",
              "      <th>9</th>\n",
              "      <td>154</td>\n",
              "      <td>7.0</td>\n",
              "      <td>7.1</td>\n",
              "      <td>0.88</td>\n",
              "      <td>apple</td>\n",
              "    </tr>\n",
              "    <tr>\n",
              "      <th>10</th>\n",
              "      <td>164</td>\n",
              "      <td>7.3</td>\n",
              "      <td>7.7</td>\n",
              "      <td>0.70</td>\n",
              "      <td>apple</td>\n",
              "    </tr>\n",
              "    <tr>\n",
              "      <th>11</th>\n",
              "      <td>152</td>\n",
              "      <td>7.6</td>\n",
              "      <td>7.3</td>\n",
              "      <td>0.69</td>\n",
              "      <td>apple</td>\n",
              "    </tr>\n",
              "    <tr>\n",
              "      <th>12</th>\n",
              "      <td>156</td>\n",
              "      <td>7.7</td>\n",
              "      <td>7.1</td>\n",
              "      <td>0.69</td>\n",
              "      <td>apple</td>\n",
              "    </tr>\n",
              "    <tr>\n",
              "      <th>13</th>\n",
              "      <td>156</td>\n",
              "      <td>7.6</td>\n",
              "      <td>7.5</td>\n",
              "      <td>0.67</td>\n",
              "      <td>apple</td>\n",
              "    </tr>\n",
              "    <tr>\n",
              "      <th>14</th>\n",
              "      <td>162</td>\n",
              "      <td>7.5</td>\n",
              "      <td>7.1</td>\n",
              "      <td>0.83</td>\n",
              "      <td>apple</td>\n",
              "    </tr>\n",
              "    <tr>\n",
              "      <th>15</th>\n",
              "      <td>162</td>\n",
              "      <td>7.4</td>\n",
              "      <td>7.2</td>\n",
              "      <td>0.85</td>\n",
              "      <td>apple</td>\n",
              "    </tr>\n",
              "    <tr>\n",
              "      <th>16</th>\n",
              "      <td>160</td>\n",
              "      <td>7.5</td>\n",
              "      <td>7.5</td>\n",
              "      <td>0.86</td>\n",
              "      <td>apple</td>\n",
              "    </tr>\n",
              "    <tr>\n",
              "      <th>17</th>\n",
              "      <td>156</td>\n",
              "      <td>7.4</td>\n",
              "      <td>7.4</td>\n",
              "      <td>0.84</td>\n",
              "      <td>apple</td>\n",
              "    </tr>\n",
              "    <tr>\n",
              "      <th>18</th>\n",
              "      <td>140</td>\n",
              "      <td>7.3</td>\n",
              "      <td>7.1</td>\n",
              "      <td>0.87</td>\n",
              "      <td>apple</td>\n",
              "    </tr>\n",
              "    <tr>\n",
              "      <th>19</th>\n",
              "      <td>342</td>\n",
              "      <td>9.0</td>\n",
              "      <td>9.4</td>\n",
              "      <td>0.75</td>\n",
              "      <td>orange</td>\n",
              "    </tr>\n",
              "    <tr>\n",
              "      <th>20</th>\n",
              "      <td>356</td>\n",
              "      <td>9.2</td>\n",
              "      <td>9.2</td>\n",
              "      <td>0.75</td>\n",
              "      <td>orange</td>\n",
              "    </tr>\n",
              "    <tr>\n",
              "      <th>21</th>\n",
              "      <td>204</td>\n",
              "      <td>7.5</td>\n",
              "      <td>9.2</td>\n",
              "      <td>0.77</td>\n",
              "      <td>orange</td>\n",
              "    </tr>\n",
              "    <tr>\n",
              "      <th>22</th>\n",
              "      <td>140</td>\n",
              "      <td>6.7</td>\n",
              "      <td>7.1</td>\n",
              "      <td>0.72</td>\n",
              "      <td>orange</td>\n",
              "    </tr>\n",
              "    <tr>\n",
              "      <th>23</th>\n",
              "      <td>160</td>\n",
              "      <td>7.0</td>\n",
              "      <td>7.4</td>\n",
              "      <td>0.81</td>\n",
              "      <td>orange</td>\n",
              "    </tr>\n",
              "    <tr>\n",
              "      <th>24</th>\n",
              "      <td>158</td>\n",
              "      <td>7.1</td>\n",
              "      <td>7.5</td>\n",
              "      <td>0.79</td>\n",
              "      <td>orange</td>\n",
              "    </tr>\n",
              "    <tr>\n",
              "      <th>25</th>\n",
              "      <td>210</td>\n",
              "      <td>7.8</td>\n",
              "      <td>8.0</td>\n",
              "      <td>0.82</td>\n",
              "      <td>orange</td>\n",
              "    </tr>\n",
              "    <tr>\n",
              "      <th>26</th>\n",
              "      <td>190</td>\n",
              "      <td>7.5</td>\n",
              "      <td>8.1</td>\n",
              "      <td>0.74</td>\n",
              "      <td>orange</td>\n",
              "    </tr>\n",
              "    <tr>\n",
              "      <th>27</th>\n",
              "      <td>142</td>\n",
              "      <td>7.6</td>\n",
              "      <td>7.8</td>\n",
              "      <td>0.75</td>\n",
              "      <td>orange</td>\n",
              "    </tr>\n",
              "    <tr>\n",
              "      <th>28</th>\n",
              "      <td>160</td>\n",
              "      <td>7.1</td>\n",
              "      <td>7.6</td>\n",
              "      <td>0.76</td>\n",
              "      <td>orange</td>\n",
              "    </tr>\n",
              "    <tr>\n",
              "      <th>29</th>\n",
              "      <td>154</td>\n",
              "      <td>7.3</td>\n",
              "      <td>7.3</td>\n",
              "      <td>0.79</td>\n",
              "      <td>orange</td>\n",
              "    </tr>\n",
              "    <tr>\n",
              "      <th>30</th>\n",
              "      <td>158</td>\n",
              "      <td>7.2</td>\n",
              "      <td>7.8</td>\n",
              "      <td>0.77</td>\n",
              "      <td>orange</td>\n",
              "    </tr>\n",
              "    <tr>\n",
              "      <th>31</th>\n",
              "      <td>144</td>\n",
              "      <td>6.8</td>\n",
              "      <td>7.4</td>\n",
              "      <td>0.75</td>\n",
              "      <td>orange</td>\n",
              "    </tr>\n",
              "    <tr>\n",
              "      <th>32</th>\n",
              "      <td>154</td>\n",
              "      <td>7.1</td>\n",
              "      <td>7.5</td>\n",
              "      <td>0.78</td>\n",
              "      <td>orange</td>\n",
              "    </tr>\n",
              "    <tr>\n",
              "      <th>33</th>\n",
              "      <td>180</td>\n",
              "      <td>7.6</td>\n",
              "      <td>8.2</td>\n",
              "      <td>0.79</td>\n",
              "      <td>orange</td>\n",
              "    </tr>\n",
              "    <tr>\n",
              "      <th>34</th>\n",
              "      <td>154</td>\n",
              "      <td>7.2</td>\n",
              "      <td>7.2</td>\n",
              "      <td>0.82</td>\n",
              "      <td>orange</td>\n",
              "    </tr>\n",
              "    <tr>\n",
              "      <th>35</th>\n",
              "      <td>200</td>\n",
              "      <td>7.3</td>\n",
              "      <td>10.5</td>\n",
              "      <td>0.72</td>\n",
              "      <td>lemon</td>\n",
              "    </tr>\n",
              "    <tr>\n",
              "      <th>36</th>\n",
              "      <td>186</td>\n",
              "      <td>7.2</td>\n",
              "      <td>9.2</td>\n",
              "      <td>0.72</td>\n",
              "      <td>lemon</td>\n",
              "    </tr>\n",
              "    <tr>\n",
              "      <th>37</th>\n",
              "      <td>216</td>\n",
              "      <td>7.3</td>\n",
              "      <td>10.2</td>\n",
              "      <td>0.71</td>\n",
              "      <td>lemon</td>\n",
              "    </tr>\n",
              "    <tr>\n",
              "      <th>38</th>\n",
              "      <td>196</td>\n",
              "      <td>7.3</td>\n",
              "      <td>9.7</td>\n",
              "      <td>0.72</td>\n",
              "      <td>lemon</td>\n",
              "    </tr>\n",
              "    <tr>\n",
              "      <th>39</th>\n",
              "      <td>174</td>\n",
              "      <td>7.3</td>\n",
              "      <td>10.1</td>\n",
              "      <td>0.72</td>\n",
              "      <td>lemon</td>\n",
              "    </tr>\n",
              "    <tr>\n",
              "      <th>40</th>\n",
              "      <td>116</td>\n",
              "      <td>6.0</td>\n",
              "      <td>7.5</td>\n",
              "      <td>0.72</td>\n",
              "      <td>lemon</td>\n",
              "    </tr>\n",
              "    <tr>\n",
              "      <th>41</th>\n",
              "      <td>118</td>\n",
              "      <td>5.9</td>\n",
              "      <td>8.0</td>\n",
              "      <td>0.72</td>\n",
              "      <td>lemon</td>\n",
              "    </tr>\n",
              "    <tr>\n",
              "      <th>42</th>\n",
              "      <td>120</td>\n",
              "      <td>6.0</td>\n",
              "      <td>8.4</td>\n",
              "      <td>0.74</td>\n",
              "      <td>lemon</td>\n",
              "    </tr>\n",
              "    <tr>\n",
              "      <th>43</th>\n",
              "      <td>116</td>\n",
              "      <td>6.1</td>\n",
              "      <td>8.5</td>\n",
              "      <td>0.71</td>\n",
              "      <td>lemon</td>\n",
              "    </tr>\n",
              "    <tr>\n",
              "      <th>44</th>\n",
              "      <td>116</td>\n",
              "      <td>6.3</td>\n",
              "      <td>7.7</td>\n",
              "      <td>0.72</td>\n",
              "      <td>lemon</td>\n",
              "    </tr>\n",
              "    <tr>\n",
              "      <th>45</th>\n",
              "      <td>116</td>\n",
              "      <td>5.9</td>\n",
              "      <td>8.1</td>\n",
              "      <td>0.73</td>\n",
              "      <td>lemon</td>\n",
              "    </tr>\n",
              "    <tr>\n",
              "      <th>46</th>\n",
              "      <td>152</td>\n",
              "      <td>6.5</td>\n",
              "      <td>8.5</td>\n",
              "      <td>0.72</td>\n",
              "      <td>lemon</td>\n",
              "    </tr>\n",
              "    <tr>\n",
              "      <th>47</th>\n",
              "      <td>118</td>\n",
              "      <td>6.1</td>\n",
              "      <td>8.1</td>\n",
              "      <td>0.70</td>\n",
              "      <td>lemon</td>\n",
              "    </tr>\n",
              "  </tbody>\n",
              "</table>\n",
              "</div>"
            ],
            "text/plain": [
              "    mass  width  height  color_score fruit_name\n",
              "0     86    6.2     4.7         0.80   mandarin\n",
              "1     84    6.0     4.6         0.79   mandarin\n",
              "2     80    5.8     4.3         0.77   mandarin\n",
              "3     80    5.9     4.3         0.81   mandarin\n",
              "4    192    8.4     7.3         0.55      apple\n",
              "5    180    8.0     6.8         0.59      apple\n",
              "6    178    7.1     7.8         0.92      apple\n",
              "7    172    7.4     7.0         0.89      apple\n",
              "8    172    7.1     7.6         0.92      apple\n",
              "9    154    7.0     7.1         0.88      apple\n",
              "10   164    7.3     7.7         0.70      apple\n",
              "11   152    7.6     7.3         0.69      apple\n",
              "12   156    7.7     7.1         0.69      apple\n",
              "13   156    7.6     7.5         0.67      apple\n",
              "14   162    7.5     7.1         0.83      apple\n",
              "15   162    7.4     7.2         0.85      apple\n",
              "16   160    7.5     7.5         0.86      apple\n",
              "17   156    7.4     7.4         0.84      apple\n",
              "18   140    7.3     7.1         0.87      apple\n",
              "19   342    9.0     9.4         0.75     orange\n",
              "20   356    9.2     9.2         0.75     orange\n",
              "21   204    7.5     9.2         0.77     orange\n",
              "22   140    6.7     7.1         0.72     orange\n",
              "23   160    7.0     7.4         0.81     orange\n",
              "24   158    7.1     7.5         0.79     orange\n",
              "25   210    7.8     8.0         0.82     orange\n",
              "26   190    7.5     8.1         0.74     orange\n",
              "27   142    7.6     7.8         0.75     orange\n",
              "28   160    7.1     7.6         0.76     orange\n",
              "29   154    7.3     7.3         0.79     orange\n",
              "30   158    7.2     7.8         0.77     orange\n",
              "31   144    6.8     7.4         0.75     orange\n",
              "32   154    7.1     7.5         0.78     orange\n",
              "33   180    7.6     8.2         0.79     orange\n",
              "34   154    7.2     7.2         0.82     orange\n",
              "35   200    7.3    10.5         0.72      lemon\n",
              "36   186    7.2     9.2         0.72      lemon\n",
              "37   216    7.3    10.2         0.71      lemon\n",
              "38   196    7.3     9.7         0.72      lemon\n",
              "39   174    7.3    10.1         0.72      lemon\n",
              "40   116    6.0     7.5         0.72      lemon\n",
              "41   118    5.9     8.0         0.72      lemon\n",
              "42   120    6.0     8.4         0.74      lemon\n",
              "43   116    6.1     8.5         0.71      lemon\n",
              "44   116    6.3     7.7         0.72      lemon\n",
              "45   116    5.9     8.1         0.73      lemon\n",
              "46   152    6.5     8.5         0.72      lemon\n",
              "47   118    6.1     8.1         0.70      lemon"
            ]
          },
          "metadata": {},
          "execution_count": 182
        }
      ]
    },
    {
      "cell_type": "markdown",
      "metadata": {
        "id": "WWCeRksAIySS"
      },
      "source": [
        "Utilizar o metodo train_test_split\n"
      ]
    },
    {
      "cell_type": "code",
      "metadata": {
        "id": "b1eUoHVUr0M-",
        "colab": {
          "base_uri": "https://localhost:8080/"
        },
        "outputId": "2494529d-b575-4722-c69b-ae691a42dbcf"
      },
      "source": [
        "# O método train_test_split será utilizado para separação dos conjuntos\n",
        "from sklearn.model_selection import train_test_split\n",
        "\n",
        "treino, teste = train_test_split(dados_completos, test_size=0.2)\n",
        "print(\"Tamanhos dos conjuntos (treino, teste): \", len(treino), len(teste))"
      ],
      "execution_count": null,
      "outputs": [
        {
          "output_type": "stream",
          "name": "stdout",
          "text": [
            "Tamanhos dos conjuntos (treino, teste):  38 10\n"
          ]
        }
      ]
    },
    {
      "cell_type": "markdown",
      "metadata": {
        "id": "Qjf41W0xI4NT"
      },
      "source": [
        "Utilizar a arvore de decisão\n"
      ]
    },
    {
      "cell_type": "code",
      "metadata": {
        "id": "4rPcYRBLu4Sx"
      },
      "source": [
        "from sklearn.tree import DecisionTreeClassifier\n",
        "\n",
        "modelo = DecisionTreeClassifier(random_state=0, criterion=\"entropy\")\n",
        "\n",
        "# A função fit recebe como primeiro parâmetro uma matriz CxN, com C colunas e N linhas, onde cada linha especifica um exemplo\n",
        "# O segundo parâmetro é um vetor com N posições, indicando os rótulos das linhas da matriz no primeiro parâmetro\n",
        "\n",
        "X_treino = treino.drop('fruit_name', axis='columns')\n",
        "y_treino = treino['fruit_name']\n",
        "modelo_treinado = modelo.fit(X_treino, y_treino)"
      ],
      "execution_count": null,
      "outputs": []
    },
    {
      "cell_type": "markdown",
      "metadata": {
        "id": "Tqhx55lAI7u2"
      },
      "source": [
        "Checar acurácia\n"
      ]
    },
    {
      "cell_type": "code",
      "metadata": {
        "id": "Jv4GVeW3xuGq",
        "colab": {
          "base_uri": "https://localhost:8080/"
        },
        "outputId": "c6dfe38d-fe83-4b70-f897-57d480339e0b"
      },
      "source": [
        "from sklearn.metrics import accuracy_score\n",
        "\n",
        "# Separamos atributos e classe dos dados de teste\n",
        "X_teste = teste.drop('fruit_name', axis='columns')\n",
        "y_teste = teste['fruit_name']\n",
        "\n",
        "# Passamos os exemplos sem classe pelo modelo treinado, que retorna a predicao em um vetor\n",
        "predicoes = modelo_treinado.predict(X_teste)\n",
        "\n",
        "# Com as predicoes, podemos calcular as métricas. Abaixo, a acurácia.\n",
        "# Observe que sempre passamos os valores verdadeiros (y_teste) e depois as predicoes\n",
        "acuracia = accuracy_score(y_teste, predicoes)\n",
        "print(\"Acurácia do modelo: \", acuracia)\n"
      ],
      "execution_count": null,
      "outputs": [
        {
          "output_type": "stream",
          "name": "stdout",
          "text": [
            "Acurácia do modelo:  1.0\n"
          ]
        }
      ]
    },
    {
      "cell_type": "markdown",
      "metadata": {
        "id": "RlSHGW3KI_O1"
      },
      "source": [
        "(In)Felizmente a precisão e o recall estão dando 1.00, nao sei o que fiz de errado "
      ]
    },
    {
      "cell_type": "code",
      "metadata": {
        "id": "hCZLA3SA-JLb",
        "colab": {
          "base_uri": "https://localhost:8080/"
        },
        "outputId": "0df29d78-5720-474a-8f56-5fdb0159f266"
      },
      "source": [
        "from sklearn.metrics import classification_report\n",
        "\n",
        "relatorio = classification_report(y_teste, predicoes)\n",
        "print(relatorio)"
      ],
      "execution_count": null,
      "outputs": [
        {
          "output_type": "stream",
          "name": "stdout",
          "text": [
            "              precision    recall  f1-score   support\n",
            "\n",
            "       apple       1.00      1.00      1.00         2\n",
            "       lemon       1.00      1.00      1.00         2\n",
            "    mandarin       1.00      1.00      1.00         1\n",
            "      orange       1.00      1.00      1.00         5\n",
            "\n",
            "    accuracy                           1.00        10\n",
            "   macro avg       1.00      1.00      1.00        10\n",
            "weighted avg       1.00      1.00      1.00        10\n",
            "\n"
          ]
        }
      ]
    },
    {
      "cell_type": "markdown",
      "metadata": {
        "id": "mEk_zLskJHIS"
      },
      "source": [
        "nao entendi essa matriz mas fiz como estava no exemplo\n"
      ]
    },
    {
      "cell_type": "code",
      "metadata": {
        "id": "6s7Pyhr4KKrU",
        "colab": {
          "base_uri": "https://localhost:8080/",
          "height": 300
        },
        "outputId": "75041cb0-9d09-4d0d-9219-520b19fa6b1f"
      },
      "source": [
        "from sklearn.metrics import plot_confusion_matrix\n",
        "\n",
        "plot_confusion_matrix(modelo_treinado, X_teste, y_teste)"
      ],
      "execution_count": null,
      "outputs": [
        {
          "output_type": "execute_result",
          "data": {
            "text/plain": [
              "<sklearn.metrics._plot.confusion_matrix.ConfusionMatrixDisplay at 0x7f655b18c5d0>"
            ]
          },
          "metadata": {},
          "execution_count": 187
        },
        {
          "output_type": "display_data",
          "data": {
            "image/png": "[encoded data removed]",
            "text/plain": [
              "<Figure size 432x288 with 2 Axes>"
            ]
          },
          "metadata": {
            "needs_background": "light"
          }
        }
      ]
    },
    {
      "cell_type": "markdown",
      "metadata": {
        "id": "yLGbPha6JKvC"
      },
      "source": [
        "calcular acurácia média com k-fold\n"
      ]
    },
    {
      "cell_type": "code",
      "metadata": {
        "id": "t4RMiPy-TDn4",
        "colab": {
          "base_uri": "https://localhost:8080/"
        },
        "outputId": "545ae216-7c19-4cb1-e99a-bd20f0f69555"
      },
      "source": [
        "from sklearn.model_selection import cross_val_score\n",
        "\n",
        "# O parâmetro cv indica quantas partições criaremos\n",
        "scores = cross_val_score(modelo, X, y, cv=4)\n",
        "print(\"Acurácia média: \", scores.mean())"
      ],
      "execution_count": null,
      "outputs": [
        {
          "output_type": "stream",
          "name": "stdout",
          "text": [
            "Acurácia média:  0.8958333333333334\n"
          ]
        }
      ]
    },
    {
      "cell_type": "markdown",
      "metadata": {
        "id": "5fx4fCMoJYFN"
      },
      "source": [
        "Importar os dados da planilha 'fruit_test.csv' para checar a veracidade"
      ]
    },
    {
      "cell_type": "code",
      "metadata": {
        "id": "McRWXvahdzuB",
        "colab": {
          "base_uri": "https://localhost:8080/"
        },
        "outputId": "5ec86d3e-21f4-4cfa-83d9-b8e1af104e6a"
      },
      "source": [
        "X = dados_completos.drop('fruit_name', axis=1)\n",
        "y = dados_completos['fruit_name']\n",
        "\n",
        "modelo_final = modelo.fit(X,y)\n",
        "\n",
        "# E podemos agora colocar em produção e usá-lo\n",
        "frutas = list(cod.transform(['fruit_name'])[0])\n",
        "\n",
        "vet_pred = [[176,\t7.4,\t7.2,\t0.6], [76,\t5.8,\t4,\t0.81], [166,\t6.9,\t7.3,\t0.93],\n",
        "           [168,\t7.5,\t7.6,\t0.73],[170,\t7.6,\t7.9,\t0.88],[362,\t9.6,\t9.2,\t0.74],\n",
        "           [164,\t7.2,\t7,\t0.8],[150,\t7.1,\t7.9,\t0.75],[194,\t7.2,\t10.3,\t0.7],\n",
        "           [132,\t5.8,\t8.7,\t0.73],[130,\t6,\t8.2,\t0.71]]\n",
        "\n",
        "predicao = modelo_final.predict(vet_pred)\n",
        "\n",
        "for i in range(11):\n",
        "  print(predicao[i])"
      ],
      "execution_count": null,
      "outputs": [
        {
          "output_type": "stream",
          "name": "stdout",
          "text": [
            "apple\n",
            "mandarin\n",
            "apple\n",
            "orange\n",
            "apple\n",
            "orange\n",
            "orange\n",
            "orange\n",
            "lemon\n",
            "lemon\n",
            "lemon\n"
          ]
        }
      ]
    }
  ]
}